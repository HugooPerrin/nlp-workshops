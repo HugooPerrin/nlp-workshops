{
 "cells": [
  {
   "cell_type": "code",
   "execution_count": 115,
   "metadata": {
    "collapsed": true
   },
   "outputs": [],
   "source": [
    "import warnings\n",
    "warnings.filterwarnings('ignore')"
   ]
  },
  {
   "cell_type": "markdown",
   "metadata": {},
   "source": [
    "I. Preprocessing\n",
    "=========\n",
    "\n",
    "The objective is to **clean** and **standardize** your input data so that it can be manipulated easily afterward."
   ]
  },
  {
   "cell_type": "markdown",
   "metadata": {},
   "source": [
    "1. Tokenization\n",
    "---------------\n",
    "\n",
    "Split your input into **tokens**, according to specific rules."
   ]
  },
  {
   "cell_type": "code",
   "execution_count": 50,
   "metadata": {
    "collapsed": true
   },
   "outputs": [],
   "source": [
    "from nltk.tokenize import word_tokenize\n",
    "from nltk.tokenize import TweetTokenizer\n",
    "from nltk.tokenize import MWETokenizer\n",
    "from nltk.tokenize import RegexpTokenizer\n",
    "import nltk.data"
   ]
  },
  {
   "cell_type": "markdown",
   "metadata": {},
   "source": [
    "**Word tokenizer**"
   ]
  },
  {
   "cell_type": "code",
   "execution_count": 6,
   "metadata": {
    "collapsed": false
   },
   "outputs": [
    {
     "data": {
      "text/plain": [
       "['Welcome',\n",
       " 'to',\n",
       " 'the',\n",
       " 'Data',\n",
       " 'For',\n",
       " 'Good',\n",
       " 'NLP',\n",
       " 'workshops',\n",
       " '!',\n",
       " 'Hope',\n",
       " 'you',\n",
       " \"'ll\",\n",
       " 'enjoy',\n",
       " 'it',\n",
       " ':',\n",
       " ')']"
      ]
     },
     "execution_count": 6,
     "metadata": {},
     "output_type": "execute_result"
    }
   ],
   "source": [
    "word_tokenize(\"Welcome to the Data For Good NLP workshops! Hope you'll enjoy it :)\")"
   ]
  },
  {
   "cell_type": "markdown",
   "metadata": {},
   "source": [
    "**Tweet tokenizer**"
   ]
  },
  {
   "cell_type": "code",
   "execution_count": 8,
   "metadata": {
    "collapsed": false
   },
   "outputs": [
    {
     "data": {
      "text/plain": [
       "[u'This',\n",
       " u'is',\n",
       " u'a',\n",
       " u'cooool',\n",
       " u'#dummysmiley',\n",
       " u':',\n",
       " u':-)',\n",
       " u':-P',\n",
       " u'<3',\n",
       " u'and',\n",
       " u'some',\n",
       " u'arrows',\n",
       " u'<',\n",
       " u'>',\n",
       " u'->',\n",
       " u'<--']"
      ]
     },
     "execution_count": 8,
     "metadata": {},
     "output_type": "execute_result"
    }
   ],
   "source": [
    "tokenizer = TweetTokenizer()\n",
    "tweet = \"This is a cooool #dummysmiley: :-) :-P <3 and some arrows < > -> <--\"\n",
    "tokenizer.tokenize(tweet)"
   ]
  },
  {
   "cell_type": "code",
   "execution_count": 9,
   "metadata": {
    "collapsed": false
   },
   "outputs": [
    {
     "data": {
      "text/plain": [
       "[u':', u'This', u'workshop', u'is', u'sooo', u'cool', u'!', u'!', u'!']"
      ]
     },
     "execution_count": 9,
     "metadata": {},
     "output_type": "execute_result"
    }
   ],
   "source": [
    "tokenizer = TweetTokenizer(reduce_len=True, strip_handles=True)\n",
    "excited_tweet = '@snips: This workshop is sooooooooo cool!!!!!!'\n",
    "tokenizer.tokenize(excited_tweet)"
   ]
  },
  {
   "cell_type": "markdown",
   "metadata": {},
   "source": [
    "**Multi-word Expression tokenizer**"
   ]
  },
  {
   "cell_type": "code",
   "execution_count": 19,
   "metadata": {
    "collapsed": false
   },
   "outputs": [
    {
     "data": {
      "text/plain": [
       "['Snips',\n",
       " 'hosting',\n",
       " 'Data_For_Good',\n",
       " 'natural_language_processing',\n",
       " 'workshops',\n",
       " 'on',\n",
       " 'wednesday_evening']"
      ]
     },
     "execution_count": 19,
     "metadata": {},
     "output_type": "execute_result"
    }
   ],
   "source": [
    "tokenizer = MWETokenizer([('Data','For','Good'), ('natural', 'language', 'processing')])\n",
    "tokenizer.add_mwe(('wednesday', 'evening'))\n",
    "tokenizer.tokenize('Snips is hosting Data For Good natural language processing workshops on wednesday evening'.split(),)"
   ]
  },
  {
   "cell_type": "markdown",
   "metadata": {},
   "source": [
    "**Sentence tokenizer**"
   ]
  },
  {
   "cell_type": "code",
   "execution_count": 58,
   "metadata": {
    "collapsed": false,
    "scrolled": true
   },
   "outputs": [
    {
     "name": "stdout",
     "output_type": "stream",
     "text": [
      "This sentence tokenizer knows that the periods in Mr. Smith and Johann S. Bach\n",
      "do not mark sentence boundaries.\n",
      "-----\n",
      "And sometimes sentences can start with non-capitalized \n",
      "words.\n",
      "-----\n",
      "i is a good variable name.\n"
     ]
    }
   ],
   "source": [
    "sent_detector = nltk.data.load('tokenizers/punkt/english.pickle')\n",
    "text = '''\n",
    "This sentence tokenizer knows that the periods in Mr. Smith and Johann S. Bach\n",
    "do not mark sentence boundaries.  And sometimes sentences can start with non-capitalized \n",
    "words.  i is a good variable name.\n",
    "'''\n",
    "sentences = sent_detector.tokenize(text.strip())\n",
    "print('\\n-----\\n'.join(sentences))"
   ]
  },
  {
   "cell_type": "markdown",
   "metadata": {},
   "source": [
    "**Regexp tokenizer**"
   ]
  },
  {
   "cell_type": "code",
   "execution_count": 31,
   "metadata": {
    "collapsed": false
   },
   "outputs": [
    {
     "data": {
      "text/plain": [
       "['Snips', 'Data', 'For', 'Good']"
      ]
     },
     "execution_count": 31,
     "metadata": {},
     "output_type": "execute_result"
    }
   ],
   "source": [
    "tokenizer = RegexpTokenizer('[A-Z]\\w+')\n",
    "tokenizer.tokenize('Snips is hosting Data For Good natural language processing workshops on wednesday evening')"
   ]
  },
  {
   "cell_type": "markdown",
   "metadata": {},
   "source": [
    "2. Stemming\n",
    "-----------\n",
    "\n",
    "Normalize each token by **reducing** it to its linguistic root or **stem**."
   ]
  },
  {
   "cell_type": "code",
   "execution_count": 45,
   "metadata": {
    "collapsed": true
   },
   "outputs": [],
   "source": [
    "from nltk.stem import SnowballStemmer"
   ]
  },
  {
   "cell_type": "code",
   "execution_count": 57,
   "metadata": {
    "collapsed": false
   },
   "outputs": [
    {
     "name": "stdout",
     "output_type": "stream",
     "text": [
      "Stemming --> stem\n",
      "is --> is\n",
      "the --> the\n",
      "term --> term\n",
      "used --> use\n",
      "in --> in\n",
      "linguistic --> linguist\n",
      "morphology --> morpholog\n",
      "and --> and\n",
      "information --> inform\n",
      "retrieval --> retriev\n",
      "to --> to\n",
      "describe --> describ\n",
      "the --> the\n",
      "process --> process\n",
      "for --> for\n",
      "reducing --> reduc\n",
      "inflected --> inflect\n",
      "words --> word\n",
      "to --> to\n",
      "their --> their\n",
      "word --> word\n",
      "stem --> stem\n"
     ]
    }
   ],
   "source": [
    "stemmer = SnowballStemmer(\"english\")\n",
    "sentence = '''Stemming is the term used in linguistic morphology and information retrieval to describe\n",
    "the process for reducing inflected words to their word stem'''\n",
    "for token in word_tokenize(sentence):\n",
    "    print(token + ' --> ' + stemmer.stem(token))"
   ]
  },
  {
   "cell_type": "markdown",
   "metadata": {},
   "source": [
    "II. Features\n",
    "=======\n",
    "\n",
    "The idea is to build a representation of each token, which can be understood and manipulated easily by a learning algorithm."
   ]
  },
  {
   "cell_type": "markdown",
   "metadata": {},
   "source": [
    "Part-Of-Speech (POS) Tagging\n",
    "--------------------------\n",
    "\n",
    "Tags meaning here --> https://www.ling.upenn.edu/courses/Fall_2003/ling001/penn_treebank_pos.html"
   ]
  },
  {
   "cell_type": "code",
   "execution_count": 37,
   "metadata": {
    "collapsed": true
   },
   "outputs": [],
   "source": [
    "from nltk import pos_tag"
   ]
  },
  {
   "cell_type": "code",
   "execution_count": 58,
   "metadata": {
    "collapsed": false
   },
   "outputs": [
    {
     "name": "stdout",
     "output_type": "stream",
     "text": [
      "[('The', 'DT'), ('cat', 'NN'), ('is', 'VBZ'), ('hunting', 'VBG'), ('silently', 'RB'), ('in', 'IN'), ('the', 'DT'), ('very', 'RB'), ('dark', 'JJ'), ('alley', 'NN')]\n"
     ]
    }
   ],
   "source": [
    "sentence = \"The cat is hunting silently in the very dark alley\"\n",
    "tokens = word_tokenize(sentence)\n",
    "tags = pos_tag(tokens)\n",
    "print tags"
   ]
  },
  {
   "cell_type": "markdown",
   "metadata": {},
   "source": [
    "Word Embedding with Word2Vec\n",
    "--------------------------\n",
    "\n",
    "The objective is to map each word to a vector or real numbers in a relevant way. Words with similar meanings should be close in this vector space."
   ]
  },
  {
   "cell_type": "code",
   "execution_count": 1,
   "metadata": {
    "collapsed": false
   },
   "outputs": [],
   "source": [
    "import word2vec\n",
    "model = word2vec.load(\"GoogleNews-vectors-negative300.bin\", encoding=\"ISO-8859-1\")"
   ]
  },
  {
   "cell_type": "code",
   "execution_count": 10,
   "metadata": {
    "collapsed": false
   },
   "outputs": [
    {
     "data": {
      "text/plain": [
       "(300,)"
      ]
     },
     "execution_count": 10,
     "metadata": {},
     "output_type": "execute_result"
    }
   ],
   "source": [
    "model['good'].shape"
   ]
  },
  {
   "cell_type": "code",
   "execution_count": 12,
   "metadata": {
    "collapsed": false
   },
   "outputs": [
    {
     "data": {
      "text/plain": [
       "[0.018065597862005234,\n",
       " 0.02786020003259182,\n",
       " -0.007781266700476408,\n",
       " 0.035042908042669296,\n",
       " 0.014583073556423187,\n",
       " -0.005631895735859871,\n",
       " 0.004298741929233074,\n",
       " 0.05506742745637894,\n",
       " -0.009576943702995777,\n",
       " 0.06790924072265625]"
      ]
     },
     "execution_count": 12,
     "metadata": {},
     "output_type": "execute_result"
    }
   ],
   "source": [
    "model['good'][:10].tolist()"
   ]
  },
  {
   "cell_type": "code",
   "execution_count": 132,
   "metadata": {
    "collapsed": false
   },
   "outputs": [
    {
     "data": {
      "text/plain": [
       "[(u'great', 0.7291509923988669),\n",
       " (u'bad', 0.7190051300688269),\n",
       " (u'terrific', 0.6889115720662927),\n",
       " (u'decent', 0.6837348416440666),\n",
       " (u'nice', 0.6836092515280819)]"
      ]
     },
     "execution_count": 132,
     "metadata": {},
     "output_type": "execute_result"
    }
   ],
   "source": [
    "indexes, metrics = model.cosine('good', n=5)\n",
    "model.generate_response(indexes, metrics).tolist()"
   ]
  },
  {
   "cell_type": "code",
   "execution_count": 69,
   "metadata": {
    "collapsed": false
   },
   "outputs": [
    {
     "data": {
      "text/plain": [
       "[(u'stronger', 0.6623841784808244),\n",
       " (u'quicker', 0.6499592814523818),\n",
       " (u'smarter', 0.6418017961667891),\n",
       " (u'worse', 0.6248995415773693),\n",
       " (u'good', 0.6120729390511608)]"
      ]
     },
     "execution_count": 69,
     "metadata": {},
     "output_type": "execute_result"
    }
   ],
   "source": [
    "indexes, metrics = model.cosine('better', n=5)\n",
    "model.generate_response(indexes, metrics).tolist()"
   ]
  },
  {
   "cell_type": "code",
   "execution_count": 71,
   "metadata": {
    "collapsed": false
   },
   "outputs": [
    {
     "data": {
      "text/plain": [
       "[(u'worse', 0.2644434422893838),\n",
       " (u'uglier', 0.20772927367153107),\n",
       " (u'sooner', 0.19263500501334097),\n",
       " (u'dumber', 0.18967211741489587),\n",
       " (u'differently', 0.18769694485908592)]"
      ]
     },
     "execution_count": 71,
     "metadata": {},
     "output_type": "execute_result"
    }
   ],
   "source": [
    "indexes, metrics = model.analogy(pos=['bad', 'better'], neg=['good'], n=5)\n",
    "model.generate_response(indexes, metrics).tolist()"
   ]
  },
  {
   "cell_type": "markdown",
   "metadata": {
    "collapsed": false
   },
   "source": [
    "Term frequencies\n",
    "---------------\n",
    "\n",
    "The objective here is to identify important words in a document."
   ]
  },
  {
   "cell_type": "code",
   "execution_count": 111,
   "metadata": {
    "collapsed": true
   },
   "outputs": [],
   "source": [
    "from nltk import FreqDist\n",
    "from nltk.tokenize import word_tokenize\n",
    "from nltk.stem import SnowballStemmer\n",
    "from unidecode import unidecode\n",
    "import math"
   ]
  },
  {
   "cell_type": "code",
   "execution_count": 157,
   "metadata": {
    "collapsed": false
   },
   "outputs": [],
   "source": [
    "sent_detector = nltk.data.load('tokenizers/punkt/english.pickle')\n",
    "stemmer = SnowballStemmer('english')\n",
    "\n",
    "def compute_df(filename, with_stemming):\n",
    "    nb_documents = 0\n",
    "    idf = {}\n",
    "    line_number = 0\n",
    "    for line in open(filename):\n",
    "        if len(line) == 0:\n",
    "            continue\n",
    "        for sentence in sent_detector.tokenize(unidecode(line)):\n",
    "            nb_documents+=1\n",
    "            for token in set(word_tokenize(sentence)):\n",
    "                stem = stemmer.stem(token)\n",
    "                if stem in idf:\n",
    "                    idf[stem] += 1\n",
    "                else:\n",
    "                    idf[stem] = 1\n",
    "        line_number+=1\n",
    "        if line_number % 30000 == 0:\n",
    "            print(line_number)\n",
    "    return nb_documents, idf\n",
    "\n",
    "def compute_tf_idf(string, nb_documents, df, with_stemming=False):\n",
    "    tokens=word_tokenize(string)\n",
    "    tf_idf = {}\n",
    "    if with_stemming:\n",
    "        tokens = map(lambda token: stemmer.stem(token), tokens)\n",
    "    frequencies = FreqDist(tokens)\n",
    "    for freq in frequencies.iteritems():\n",
    "        token = freq[0]\n",
    "        tf_idf[token] = freq[1]*math.log(nb_documents/(1+df.get(token, 0)))\n",
    "    return tf_idf"
   ]
  },
  {
   "cell_type": "code",
   "execution_count": 158,
   "metadata": {
    "collapsed": false
   },
   "outputs": [
    {
     "name": "stdout",
     "output_type": "stream",
     "text": [
      "10000\n",
      "20000\n",
      "30000\n",
      "40000\n",
      "50000\n",
      "60000\n",
      "70000\n",
      "80000\n",
      "90000\n",
      "100000\n",
      "110000\n",
      "120000\n",
      "130000\n",
      "140000\n",
      "150000\n",
      "160000\n",
      "170000\n",
      "180000\n",
      "190000\n",
      "200000\n",
      "210000\n",
      "220000\n",
      "230000\n",
      "240000\n",
      "250000\n",
      "260000\n",
      "270000\n",
      "280000\n",
      "290000\n",
      "300000\n",
      "310000\n",
      "320000\n",
      "330000\n",
      "340000\n",
      "350000\n",
      "360000\n",
      "370000\n"
     ]
    }
   ],
   "source": [
    "nb_documents, df = compute_df(\"raw.en/englishText_10000_20000\", True)"
   ]
  },
  {
   "cell_type": "code",
   "execution_count": 168,
   "metadata": {
    "collapsed": false
   },
   "outputs": [
    {
     "data": {
      "text/plain": [
       "[(u'intox', 10.160452652325848),\n",
       " (u'terribl', 8.945984124827898),\n",
       " (u'restaur', 7.70210434005105),\n",
       " (u'eat', 7.649216319820633),\n",
       " (u'got', 6.949856455000773),\n",
       " ('my', 6.375024819828097),\n",
       " (u'recent', 6.210600077024653),\n",
       " (u'friend', 6.150602768446279),\n",
       " ('i', 5.087596335232384),\n",
       " (u'some', 4.770684624465665),\n",
       " (u'after', 4.343805421853684),\n",
       " (u'with', 3.091042453358316),\n",
       " ('a', 1.9459101490553132),\n",
       " ('in', 1.791759469228055),\n",
       " ('of', 1.6094379124341003)]"
      ]
     },
     "execution_count": 168,
     "metadata": {},
     "output_type": "execute_result"
    }
   ],
   "source": [
    "sentence = \"I recently got intoxicated after eating in a terrible restaurant with some of my friends\"\n",
    "\n",
    "tf_idf = compute_tf_idf(sentence, nb_documents, df, with_stemming=True)\n",
    "[(token, score) for token, score in sorted(tf_idf.iteritems(),key=lambda item: -item[1])]"
   ]
  },
  {
   "cell_type": "code",
   "execution_count": null,
   "metadata": {
    "collapsed": true
   },
   "outputs": [],
   "source": []
  }
 ],
 "metadata": {
  "kernelspec": {
   "display_name": "Python 2",
   "language": "python",
   "name": "python2"
  },
  "language_info": {
   "codemirror_mode": {
    "name": "ipython",
    "version": 2
   },
   "file_extension": ".py",
   "mimetype": "text/x-python",
   "name": "python",
   "nbconvert_exporter": "python",
   "pygments_lexer": "ipython2",
   "version": "2.7.10"
  }
 },
 "nbformat": 4,
 "nbformat_minor": 0
}
